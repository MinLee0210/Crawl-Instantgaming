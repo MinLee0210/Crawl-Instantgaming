{
 "cells": [
  {
   "cell_type": "code",
   "execution_count": 9,
   "metadata": {},
   "outputs": [],
   "source": [
    "import re, os\n",
    "import requests \n",
    "import subprocess\n",
    "import time\n",
    "\n",
    "import pandas as pd\n",
    "\n",
    "from bs4 import BeautifulSoup\n",
    "import chromedriver_autoinstaller\n",
    "from selenium import webdriver"
   ]
  },
  {
   "cell_type": "code",
   "execution_count": null,
   "metadata": {},
   "outputs": [],
   "source": [
    "import logging\n",
    "\n",
    "logging.basicConfig(level=logging.INFO, \n",
    "                    filename='./log/app.log',\n",
    "                    format='%(asctime)s - %(levelname)s - %(message)s',\n",
    "                    datefmt='%d-%b-%y %H:%M:%S')"
   ]
  },
  {
   "cell_type": "code",
   "execution_count": 6,
   "metadata": {},
   "outputs": [],
   "source": [
    "\n",
    "def write_df(dataset:list[dict]) -> pd.DataFrame: \n",
    "    df = pd.DataFrame(dataset)\n",
    "    return df\n",
    "\n",
    "def to_csv(df:pd.DataFrame, dir): \n",
    "    if '.csv' in dir: \n",
    "        df.to_csv(dir)\n",
    "    else: \n",
    "        raise \"Invalid format\"\n",
    "    \n",
    "def write_log(dir, content): \n",
    "    with open(dir, 'a') as f: \n",
    "        f.writelines(content + '\\n')"
   ]
  },
  {
   "cell_type": "code",
   "execution_count": 7,
   "metadata": {},
   "outputs": [],
   "source": [
    "# setup chrome options\n",
    "chrome_options = webdriver.ChromeOptions()\n",
    "chrome_options.add_argument('--headless') # ensure GUI is off\n",
    "chrome_options.add_argument('--no-sandbox')\n",
    "chrome_options.add_argument('--disable-dev-shm-usage')\n",
    "\n",
    "\n",
    "# set path to chromedriver as per your configuration\n",
    "chromedriver_autoinstaller.install()\n",
    "\n",
    "\n",
    "headers = {'User-Agent': \"Mozilla/5.0 (Windows NT 10.0; Win64; x64) AppleWebKit/537.36 (KHTML, like Gecko) Chrome/42.0.2311.135 Safari/537.36 Edge/12.246\"} \n",
    "BASE_URL = \"https://www.instant-gaming.com/en/\""
   ]
  },
  {
   "cell_type": "code",
   "execution_count": 8,
   "metadata": {},
   "outputs": [],
   "source": [
    "def get_game_url(start:int=1, end:int=141): \n",
    "    game_urls = []\n",
    "\n",
    "    for page in range(start, end): \n",
    "        # This is the trending page of instant-gaming\n",
    "        URL = f\"https://www.instant-gaming.com/en/search/?gametype=trending&version=2&page={page}\" \n",
    "        resource = requests.get(url=URL,\n",
    "                    headers=headers) \n",
    "        soup = BeautifulSoup(resource.content, 'html5lib')\n",
    "\n",
    "        for a in soup.find_all('a', href=True):\n",
    "            game_pattern = f\"^{BASE_URL}+[0-9]\"\n",
    "            is_game_url = re.search(pattern=game_pattern, string=a['href'])\n",
    "            if isinstance(is_game_url, re.Match): \n",
    "                # print(\"Game link: \", a['href'])\n",
    "                game_urls.append(a['href'])\n",
    "\n",
    "    return game_urls\n",
    "\n",
    "def get_page_content(url): \n",
    "    driver = webdriver.Chrome(options=chrome_options)\n",
    "    driver.get(url)\n",
    "\n",
    "    # scrolling\n",
    "\n",
    "    lastHeight = driver.execute_script(\"return document.body.scrollHeight\")\n",
    "    #print(lastHeight)\n",
    "\n",
    "    pause = 1\n",
    "    while True:\n",
    "        driver.execute_script(\"window.scrollTo(0, document.body.scrollHeight);\")\n",
    "        time.sleep(pause)\n",
    "        newHeight = driver.execute_script(\"return document.body.scrollHeight\")\n",
    "        if newHeight == lastHeight:\n",
    "            break\n",
    "        lastHeight = newHeight\n",
    "        #print(lastHeight)\n",
    "\n",
    "    # ---\n",
    "    html = driver.page_source    \n",
    "    bs4_obj = BeautifulSoup(html, 'html5lib')\n",
    "    return bs4_obj\n",
    "\n",
    "\n",
    "def get_game_card(url, count:int=0):\n",
    "    try:\n",
    "        soup = get_page_content(url)\n",
    "        game_name = soup.find('h1', 'game-title').text\n",
    "        img_url = soup.find('img', attrs={'alt': game_name})['src']\n",
    "        description = soup.find('span', attrs={'itemprop': 'description'}).text\n",
    "        categories = []\n",
    "        for cat in soup.find_all('a', attrs={'itemprop': 'applicationSubCategory'}):\n",
    "            if not cat['content'] == 'Publishers':\n",
    "                categories.append(cat.text)\n",
    "\n",
    "        game_card = {'name': game_name,\n",
    "                    'description': description,\n",
    "                    'img_url': img_url,\n",
    "                     'categories': categories}\n",
    "        log_data = f'Processing {url}, No. {count}'\n",
    "        write_log(dir='./data/log.txt', content=log_data)\n",
    "        return game_card\n",
    "    \n",
    "    except:\n",
    "        log_data = f'Fail to prorcess {url}'\n",
    "        write_log(dir='./data/log.txt', content=log_data)\n",
    "        return None"
   ]
  },
  {
   "cell_type": "code",
   "execution_count": 11,
   "metadata": {},
   "outputs": [],
   "source": [
    "try:\n",
    "    data_dir = './data'\n",
    "\n",
    "    if not os.path.isdir(data_dir): \n",
    "        os.mkdir(data_dir)\n",
    "    write_log('./data/log.txt', \"Start crawling\")\n",
    "\n",
    "    # Crawl its trending games\n",
    "    start = 1\n",
    "    end = 140\n",
    "    game_urls = get_game_url(start=start, \n",
    "                            end=end)\n",
    "\n",
    "    game_cards = []\n",
    "    count = 0\n",
    "    for url in game_urls: \n",
    "        card = get_game_card(url, \n",
    "                            count=count)\n",
    "        if isinstance(card, dict): \n",
    "            game_cards.append(card)\n",
    "            count += 1\n",
    "\n",
    "    dataset_name = 'instant_gaming.csv'\n",
    "    dataset_dir = f'{data_dir}/{dataset_name}'\n",
    "    # Turns crawled data into .csv \n",
    "    df = write_df(game_cards)\n",
    "    to_csv(df, dir=dataset_dir)\n",
    "    print('Done')\n",
    "except Exception as e: \n",
    "    print(e)\n",
    "    logging.error(\"Exception occurred\", exc_info=True)"
   ]
  },
  {
   "cell_type": "code",
   "execution_count": 5,
   "metadata": {},
   "outputs": [
    {
     "data": {
      "text/plain": [
       "[1, 141]"
      ]
     },
     "execution_count": 5,
     "metadata": {},
     "output_type": "execute_result"
    }
   ],
   "source": [
    "import yaml \n",
    "def yaml_read(filename): \n",
    "    if '.yaml' not in filename: \n",
    "        raise \"Invalid format\"\n",
    "    with open(filename) as f:\n",
    "        my_dict = yaml.safe_load(f)\n",
    "    return my_dict\n",
    "\n",
    "\n",
    "config = yaml_read(filename=\"./configs/config.yaml\")\n",
    "config[\"pages\"]"
   ]
  },
  {
   "cell_type": "code",
   "execution_count": 6,
   "metadata": {},
   "outputs": [
    {
     "name": "stderr",
     "output_type": "stream",
     "text": [
      "\n",
      "Parameters:\n",
      "0\n",
      "1\n",
      "2\n",
      "3\n",
      "4\n",
      "5\n",
      "6\n",
      "7\n",
      "8\n",
      "9\n",
      "end!\n"
     ]
    }
   ],
   "source": [
    "import logging\n",
    "##loging\n",
    "for handler in logging.root.handlers[:]:\n",
    "    logging.root.removeHandler(handler)\n",
    "\n",
    "logging.basicConfig(level=logging.DEBUG,\n",
    "                    format='%(asctime)s %(message)s',\n",
    "                    datefmt='%a, %d %b %Y %H:%M:%S',\n",
    "                    filename= './log/app.log',\n",
    "                    filemode='w')\n",
    "\n",
    "console = logging.StreamHandler()\n",
    "console.setLevel(logging.INFO)\n",
    "# add the handler to the root logger\n",
    "logging.getLogger().addHandler(console)\n",
    "logging.info(\"\\nParameters:\")\n",
    "\n",
    "for i in range(10):\n",
    "    logging.info(i)\n",
    "\n",
    "logging.info(\"end!\")"
   ]
  },
  {
   "cell_type": "code",
   "execution_count": null,
   "metadata": {},
   "outputs": [],
   "source": [
    "\n",
    "        # dataset_name = 'instant_gaming.csv'\n",
    "        # dataset_dir = f'{data_dir}/{dataset_name}'\n",
    "\n",
    "        # Turns crawled data into .csv \n",
    "        # df = write_df(game_cards)\n",
    "        # to_csv(df, dir=dataset_dir)\n",
    "\n",
    "\n",
    "        # subprocess.run(['bash', 'commit.sh'], text=True)"
   ]
  }
 ],
 "metadata": {
  "kernelspec": {
   "display_name": "stoic_lab",
   "language": "python",
   "name": "python3"
  },
  "language_info": {
   "codemirror_mode": {
    "name": "ipython",
    "version": 3
   },
   "file_extension": ".py",
   "mimetype": "text/x-python",
   "name": "python",
   "nbconvert_exporter": "python",
   "pygments_lexer": "ipython3",
   "version": "3.11.7"
  }
 },
 "nbformat": 4,
 "nbformat_minor": 2
}
